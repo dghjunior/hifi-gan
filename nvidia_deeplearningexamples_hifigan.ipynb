{
  "cells": [
    {
      "cell_type": "code",
      "execution_count": 10,
      "id": "1eb16dfe",
      "metadata": {
        "id": "1eb16dfe"
      },
      "outputs": [
        {
          "name": "stdout",
          "output_type": "stream",
          "text": [
            "Requirement already satisfied: numpy in /Users/dharp/.pyenv/versions/3.8.11/lib/python3.8/site-packages (1.24.4)\n",
            "Requirement already satisfied: scipy in /Users/dharp/.pyenv/versions/3.8.11/lib/python3.8/site-packages (1.10.1)\n",
            "Requirement already satisfied: librosa in /Users/dharp/.pyenv/versions/3.8.11/lib/python3.8/site-packages (0.10.1)\n",
            "Requirement already satisfied: unidecode in /Users/dharp/.pyenv/versions/3.8.11/lib/python3.8/site-packages (1.3.7)\n",
            "Requirement already satisfied: inflect in /Users/dharp/.pyenv/versions/3.8.11/lib/python3.8/site-packages (7.0.0)\n",
            "Requirement already satisfied: matplotlib==3.6.3 in /Users/dharp/.pyenv/versions/3.8.11/lib/python3.8/site-packages (3.6.3)\n",
            "Requirement already satisfied: contourpy>=1.0.1 in /Users/dharp/.pyenv/versions/3.8.11/lib/python3.8/site-packages (from matplotlib==3.6.3) (1.1.1)\n",
            "Requirement already satisfied: cycler>=0.10 in /Users/dharp/.pyenv/versions/3.8.11/lib/python3.8/site-packages (from matplotlib==3.6.3) (0.12.1)\n",
            "Requirement already satisfied: fonttools>=4.22.0 in /Users/dharp/.pyenv/versions/3.8.11/lib/python3.8/site-packages (from matplotlib==3.6.3) (4.46.0)\n",
            "Requirement already satisfied: kiwisolver>=1.0.1 in /Users/dharp/.pyenv/versions/3.8.11/lib/python3.8/site-packages (from matplotlib==3.6.3) (1.4.5)\n",
            "Requirement already satisfied: packaging>=20.0 in /Users/dharp/.pyenv/versions/3.8.11/lib/python3.8/site-packages (from matplotlib==3.6.3) (23.2)\n",
            "Requirement already satisfied: pillow>=6.2.0 in /Users/dharp/.pyenv/versions/3.8.11/lib/python3.8/site-packages (from matplotlib==3.6.3) (10.1.0)\n",
            "Requirement already satisfied: pyparsing>=2.2.1 in /Users/dharp/.pyenv/versions/3.8.11/lib/python3.8/site-packages (from matplotlib==3.6.3) (3.1.1)\n",
            "Requirement already satisfied: python-dateutil>=2.7 in /Users/dharp/.pyenv/versions/3.8.11/lib/python3.8/site-packages (from matplotlib==3.6.3) (2.8.2)\n",
            "Requirement already satisfied: audioread>=2.1.9 in /Users/dharp/.pyenv/versions/3.8.11/lib/python3.8/site-packages (from librosa) (3.0.1)\n",
            "Requirement already satisfied: scikit-learn>=0.20.0 in /Users/dharp/.pyenv/versions/3.8.11/lib/python3.8/site-packages (from librosa) (1.3.2)\n",
            "Requirement already satisfied: joblib>=0.14 in /Users/dharp/.pyenv/versions/3.8.11/lib/python3.8/site-packages (from librosa) (1.3.2)\n",
            "Requirement already satisfied: decorator>=4.3.0 in /Users/dharp/.pyenv/versions/3.8.11/lib/python3.8/site-packages (from librosa) (5.1.1)\n",
            "Requirement already satisfied: numba>=0.51.0 in /Users/dharp/.pyenv/versions/3.8.11/lib/python3.8/site-packages (from librosa) (0.58.1)\n",
            "Requirement already satisfied: soundfile>=0.12.1 in /Users/dharp/.pyenv/versions/3.8.11/lib/python3.8/site-packages (from librosa) (0.12.1)\n",
            "Requirement already satisfied: pooch>=1.0 in /Users/dharp/.pyenv/versions/3.8.11/lib/python3.8/site-packages (from librosa) (1.8.0)\n",
            "Requirement already satisfied: soxr>=0.3.2 in /Users/dharp/.pyenv/versions/3.8.11/lib/python3.8/site-packages (from librosa) (0.3.7)\n",
            "Requirement already satisfied: typing-extensions>=4.1.1 in /Users/dharp/.pyenv/versions/3.8.11/lib/python3.8/site-packages (from librosa) (4.8.0)\n",
            "Requirement already satisfied: lazy-loader>=0.1 in /Users/dharp/.pyenv/versions/3.8.11/lib/python3.8/site-packages (from librosa) (0.3)\n",
            "Requirement already satisfied: msgpack>=1.0 in /Users/dharp/.pyenv/versions/3.8.11/lib/python3.8/site-packages (from librosa) (1.0.7)\n",
            "Requirement already satisfied: pydantic>=1.9.1 in /Users/dharp/.pyenv/versions/3.8.11/lib/python3.8/site-packages (from inflect) (2.5.2)\n",
            "Requirement already satisfied: llvmlite<0.42,>=0.41.0dev0 in /Users/dharp/.pyenv/versions/3.8.11/lib/python3.8/site-packages (from numba>=0.51.0->librosa) (0.41.1)\n",
            "Requirement already satisfied: importlib-metadata in /Users/dharp/.pyenv/versions/3.8.11/lib/python3.8/site-packages (from numba>=0.51.0->librosa) (7.0.0)\n",
            "Requirement already satisfied: platformdirs>=2.5.0 in /Users/dharp/.pyenv/versions/3.8.11/lib/python3.8/site-packages (from pooch>=1.0->librosa) (4.1.0)\n",
            "Requirement already satisfied: requests>=2.19.0 in /Users/dharp/.pyenv/versions/3.8.11/lib/python3.8/site-packages (from pooch>=1.0->librosa) (2.31.0)\n",
            "Requirement already satisfied: annotated-types>=0.4.0 in /Users/dharp/.pyenv/versions/3.8.11/lib/python3.8/site-packages (from pydantic>=1.9.1->inflect) (0.6.0)\n",
            "Requirement already satisfied: pydantic-core==2.14.5 in /Users/dharp/.pyenv/versions/3.8.11/lib/python3.8/site-packages (from pydantic>=1.9.1->inflect) (2.14.5)\n",
            "Requirement already satisfied: six>=1.5 in /Users/dharp/.pyenv/versions/3.8.11/lib/python3.8/site-packages (from python-dateutil>=2.7->matplotlib==3.6.3) (1.16.0)\n",
            "Requirement already satisfied: threadpoolctl>=2.0.0 in /Users/dharp/.pyenv/versions/3.8.11/lib/python3.8/site-packages (from scikit-learn>=0.20.0->librosa) (3.2.0)\n",
            "Requirement already satisfied: cffi>=1.0 in /Users/dharp/.pyenv/versions/3.8.11/lib/python3.8/site-packages (from soundfile>=0.12.1->librosa) (1.16.0)\n",
            "Requirement already satisfied: pycparser in /Users/dharp/.pyenv/versions/3.8.11/lib/python3.8/site-packages (from cffi>=1.0->soundfile>=0.12.1->librosa) (2.21)\n",
            "Requirement already satisfied: charset-normalizer<4,>=2 in /Users/dharp/.pyenv/versions/3.8.11/lib/python3.8/site-packages (from requests>=2.19.0->pooch>=1.0->librosa) (3.3.2)\n",
            "Requirement already satisfied: idna<4,>=2.5 in /Users/dharp/.pyenv/versions/3.8.11/lib/python3.8/site-packages (from requests>=2.19.0->pooch>=1.0->librosa) (3.6)\n",
            "Requirement already satisfied: urllib3<3,>=1.21.1 in /Users/dharp/.pyenv/versions/3.8.11/lib/python3.8/site-packages (from requests>=2.19.0->pooch>=1.0->librosa) (2.1.0)\n",
            "Requirement already satisfied: certifi>=2017.4.17 in /Users/dharp/.pyenv/versions/3.8.11/lib/python3.8/site-packages (from requests>=2.19.0->pooch>=1.0->librosa) (2023.11.17)\n",
            "Requirement already satisfied: zipp>=0.5 in /Users/dharp/.pyenv/versions/3.8.11/lib/python3.8/site-packages (from importlib-metadata->numba>=0.51.0->librosa) (3.17.0)\n"
          ]
        },
        {
          "name": "stderr",
          "output_type": "stream",
          "text": [
            "bash: line 2: apt-get: command not found\n",
            "bash: line 3: apt-get: command not found\n"
          ]
        }
      ],
      "source": [
        "%%bash\n",
        "pip install numpy scipy librosa unidecode inflect librosa matplotlib==3.6.3\n",
        "apt-get update\n",
        "apt-get install -y libsndfile1 wget\n",
        "wget https://raw.githubusercontent.com/NVIDIA/NeMo/263a30be71e859cee330e5925332009da3e5efbc/scripts/tts_dataset_files/heteronyms-052722 -qO heteronyms\n",
        "wget https://raw.githubusercontent.com/NVIDIA/NeMo/263a30be71e859cee330e5925332009da3e5efbc/scripts/tts_dataset_files/cmudict-0.7b_nv22.08 -qO cmudict-0.7b"
      ]
    },
    {
      "cell_type": "code",
      "execution_count": 11,
      "id": "4b134a92",
      "metadata": {
        "id": "4b134a92"
      },
      "outputs": [
        {
          "name": "stdout",
          "output_type": "stream",
          "text": [
            "Using cpu for inference\n"
          ]
        }
      ],
      "source": [
        "import torch\n",
        "import matplotlib.pyplot as plt\n",
        "from IPython.display import Audio\n",
        "import warnings\n",
        "warnings.filterwarnings('ignore')\n",
        "\n",
        "device = torch.device(\"cuda\") if torch.cuda.is_available() else torch.device(\"cpu\")\n",
        "print(f'Using {device} for inference')"
      ]
    },
    {
      "cell_type": "markdown",
      "id": "07f09bbb",
      "metadata": {
        "id": "07f09bbb"
      },
      "source": [
        "Download and setup FastPitch generator model."
      ]
    },
    {
      "cell_type": "code",
      "execution_count": 12,
      "id": "e726a031",
      "metadata": {
        "id": "e726a031"
      },
      "outputs": [
        {
          "name": "stderr",
          "output_type": "stream",
          "text": [
            "Using cache found in /Users/dharp/.cache/torch/hub/NVIDIA_DeepLearningExamples_torchhub\n"
          ]
        },
        {
          "ename": "ImportError",
          "evalue": "dlopen(/Users/dharp/.pyenv/versions/3.8.11/lib/python3.8/site-packages/_cffi_backend.cpython-38-darwin.so, 0x0002): symbol not found in flat namespace '_ffi_prep_closure'",
          "output_type": "error",
          "traceback": [
            "\u001b[0;31m---------------------------------------------------------------------------\u001b[0m",
            "\u001b[0;31mImportError\u001b[0m                               Traceback (most recent call last)",
            "\u001b[1;32m/Users/dharp/Documents/GitHub/hifi-gan/nvidia_deeplearningexamples_hifigan.ipynb Cell 4\u001b[0m line \u001b[0;36m1\n\u001b[0;32m----> <a href='vscode-notebook-cell:/Users/dharp/Documents/GitHub/hifi-gan/nvidia_deeplearningexamples_hifigan.ipynb#W4sZmlsZQ%3D%3D?line=0'>1</a>\u001b[0m fastpitch, generator_train_setup \u001b[39m=\u001b[39m torch\u001b[39m.\u001b[39;49mhub\u001b[39m.\u001b[39;49mload(\u001b[39m'\u001b[39;49m\u001b[39mNVIDIA/DeepLearningExamples:torchhub\u001b[39;49m\u001b[39m'\u001b[39;49m, \u001b[39m'\u001b[39;49m\u001b[39mnvidia_fastpitch\u001b[39;49m\u001b[39m'\u001b[39;49m)\n",
            "File \u001b[0;32m~/.pyenv/versions/3.8.11/lib/python3.8/site-packages/torch/hub.py:566\u001b[0m, in \u001b[0;36mload\u001b[0;34m(repo_or_dir, model, source, trust_repo, force_reload, verbose, skip_validation, *args, **kwargs)\u001b[0m\n\u001b[1;32m    562\u001b[0m \u001b[39mif\u001b[39;00m source \u001b[39m==\u001b[39m \u001b[39m'\u001b[39m\u001b[39mgithub\u001b[39m\u001b[39m'\u001b[39m:\n\u001b[1;32m    563\u001b[0m     repo_or_dir \u001b[39m=\u001b[39m _get_cache_or_reload(repo_or_dir, force_reload, trust_repo, \u001b[39m\"\u001b[39m\u001b[39mload\u001b[39m\u001b[39m\"\u001b[39m,\n\u001b[1;32m    564\u001b[0m                                        verbose\u001b[39m=\u001b[39mverbose, skip_validation\u001b[39m=\u001b[39mskip_validation)\n\u001b[0;32m--> 566\u001b[0m model \u001b[39m=\u001b[39m _load_local(repo_or_dir, model, \u001b[39m*\u001b[39;49margs, \u001b[39m*\u001b[39;49m\u001b[39m*\u001b[39;49mkwargs)\n\u001b[1;32m    567\u001b[0m \u001b[39mreturn\u001b[39;00m model\n",
            "File \u001b[0;32m~/.pyenv/versions/3.8.11/lib/python3.8/site-packages/torch/hub.py:595\u001b[0m, in \u001b[0;36m_load_local\u001b[0;34m(hubconf_dir, model, *args, **kwargs)\u001b[0m\n\u001b[1;32m    592\u001b[0m     hub_module \u001b[39m=\u001b[39m _import_module(MODULE_HUBCONF, hubconf_path)\n\u001b[1;32m    594\u001b[0m     entry \u001b[39m=\u001b[39m _load_entry_from_hubconf(hub_module, model)\n\u001b[0;32m--> 595\u001b[0m     model \u001b[39m=\u001b[39m entry(\u001b[39m*\u001b[39;49margs, \u001b[39m*\u001b[39;49m\u001b[39m*\u001b[39;49mkwargs)\n\u001b[1;32m    597\u001b[0m \u001b[39mreturn\u001b[39;00m model\n",
            "File \u001b[0;32m~/.cache/torch/hub/NVIDIA_DeepLearningExamples_torchhub/PyTorch/SpeechSynthesis/HiFiGAN/fastpitch/entrypoints.py:79\u001b[0m, in \u001b[0;36mnvidia_fastpitch\u001b[0;34m(pretrained, **kwargs)\u001b[0m\n\u001b[1;32m     75\u001b[0m \u001b[39mdef\u001b[39;00m \u001b[39mnvidia_fastpitch\u001b[39m(pretrained\u001b[39m=\u001b[39m\u001b[39mTrue\u001b[39;00m, \u001b[39m*\u001b[39m\u001b[39m*\u001b[39mkwargs):\n\u001b[1;32m     76\u001b[0m \u001b[39m    \u001b[39m\u001b[39m\"\"\"TODO\u001b[39;00m\n\u001b[1;32m     77\u001b[0m \u001b[39m    \"\"\"\u001b[39;00m\n\u001b[0;32m---> 79\u001b[0m     \u001b[39mfrom\u001b[39;00m \u001b[39mfastpitch\u001b[39;00m \u001b[39mimport\u001b[39;00m model \u001b[39mas\u001b[39;00m fastpitch\n\u001b[1;32m     81\u001b[0m     force_reload \u001b[39m=\u001b[39m \u001b[39m\"\u001b[39m\u001b[39mforce_reload\u001b[39m\u001b[39m\"\u001b[39m \u001b[39min\u001b[39;00m kwargs \u001b[39mand\u001b[39;00m kwargs[\u001b[39m\"\u001b[39m\u001b[39mforce_reload\u001b[39m\u001b[39m\"\u001b[39m]\n\u001b[1;32m     82\u001b[0m     fp16 \u001b[39m=\u001b[39m \u001b[39m\"\u001b[39m\u001b[39mmodel_math\u001b[39m\u001b[39m\"\u001b[39m \u001b[39min\u001b[39;00m kwargs \u001b[39mand\u001b[39;00m kwargs[\u001b[39m\"\u001b[39m\u001b[39mmodel_math\u001b[39m\u001b[39m\"\u001b[39m] \u001b[39m==\u001b[39m \u001b[39m\"\u001b[39m\u001b[39mfp16\u001b[39m\u001b[39m\"\u001b[39m\n",
            "File \u001b[0;32m~/.cache/torch/hub/NVIDIA_DeepLearningExamples_torchhub/PyTorch/SpeechSynthesis/HiFiGAN/fastpitch/model.py:35\u001b[0m\n\u001b[1;32m     32\u001b[0m \u001b[39mimport\u001b[39;00m \u001b[39mtorch\u001b[39;00m\u001b[39m.\u001b[39;00m\u001b[39mnn\u001b[39;00m\u001b[39m.\u001b[39;00m\u001b[39mfunctional\u001b[39;00m \u001b[39mas\u001b[39;00m \u001b[39mF\u001b[39;00m\n\u001b[1;32m     34\u001b[0m \u001b[39mfrom\u001b[39;00m \u001b[39mcommon\u001b[39;00m\u001b[39m.\u001b[39;00m\u001b[39mlayers\u001b[39;00m \u001b[39mimport\u001b[39;00m ConvReLUNorm\n\u001b[0;32m---> 35\u001b[0m \u001b[39mfrom\u001b[39;00m \u001b[39mcommon\u001b[39;00m\u001b[39m.\u001b[39;00m\u001b[39mutils\u001b[39;00m \u001b[39mimport\u001b[39;00m mask_from_lens\n\u001b[1;32m     36\u001b[0m \u001b[39mfrom\u001b[39;00m \u001b[39mfastpitch\u001b[39;00m\u001b[39m.\u001b[39;00m\u001b[39malignment\u001b[39;00m \u001b[39mimport\u001b[39;00m b_mas, mas_width1\n\u001b[1;32m     37\u001b[0m \u001b[39mfrom\u001b[39;00m \u001b[39mfastpitch\u001b[39;00m\u001b[39m.\u001b[39;00m\u001b[39mattention\u001b[39;00m \u001b[39mimport\u001b[39;00m ConvAttention\n",
            "File \u001b[0;32m~/.cache/torch/hub/NVIDIA_DeepLearningExamples_torchhub/PyTorch/SpeechSynthesis/HiFiGAN/common/utils.py:50\u001b[0m\n\u001b[1;32m     47\u001b[0m \u001b[39mfrom\u001b[39;00m \u001b[39mpathlib\u001b[39;00m \u001b[39mimport\u001b[39;00m Path\n\u001b[1;32m     48\u001b[0m \u001b[39mfrom\u001b[39;00m \u001b[39mtyping\u001b[39;00m \u001b[39mimport\u001b[39;00m Optional\n\u001b[0;32m---> 50\u001b[0m \u001b[39mimport\u001b[39;00m \u001b[39msoundfile\u001b[39;00m  \u001b[39m# flac\u001b[39;00m\n\u001b[1;32m     52\u001b[0m \u001b[39mimport\u001b[39;00m \u001b[39mmatplotlib\u001b[39;00m\n\u001b[1;32m     54\u001b[0m \u001b[39mimport\u001b[39;00m \u001b[39mnumpy\u001b[39;00m \u001b[39mas\u001b[39;00m \u001b[39mnp\u001b[39;00m\n",
            "File \u001b[0;32m~/.pyenv/versions/3.8.11/lib/python3.8/site-packages/soundfile.py:17\u001b[0m\n\u001b[1;32m     15\u001b[0m \u001b[39mfrom\u001b[39;00m \u001b[39mos\u001b[39;00m \u001b[39mimport\u001b[39;00m SEEK_SET, SEEK_CUR, SEEK_END\n\u001b[1;32m     16\u001b[0m \u001b[39mfrom\u001b[39;00m \u001b[39mctypes\u001b[39;00m\u001b[39m.\u001b[39;00m\u001b[39mutil\u001b[39;00m \u001b[39mimport\u001b[39;00m find_library \u001b[39mas\u001b[39;00m _find_library\n\u001b[0;32m---> 17\u001b[0m \u001b[39mfrom\u001b[39;00m \u001b[39m_soundfile\u001b[39;00m \u001b[39mimport\u001b[39;00m ffi \u001b[39mas\u001b[39;00m _ffi\n\u001b[1;32m     19\u001b[0m \u001b[39mtry\u001b[39;00m:\n\u001b[1;32m     20\u001b[0m     _unicode \u001b[39m=\u001b[39m unicode  \u001b[39m# doesn't exist in Python 3.x\u001b[39;00m\n",
            "File \u001b[0;32m~/.pyenv/versions/3.8.11/lib/python3.8/site-packages/_soundfile.py:2\u001b[0m\n\u001b[1;32m      1\u001b[0m \u001b[39m# auto-generated file\u001b[39;00m\n\u001b[0;32m----> 2\u001b[0m \u001b[39mimport\u001b[39;00m \u001b[39m_cffi_backend\u001b[39;00m\n\u001b[1;32m      4\u001b[0m ffi \u001b[39m=\u001b[39m _cffi_backend\u001b[39m.\u001b[39mFFI(\u001b[39m'\u001b[39m\u001b[39m_soundfile\u001b[39m\u001b[39m'\u001b[39m,\n\u001b[1;32m      5\u001b[0m     _version \u001b[39m=\u001b[39m \u001b[39m0x2601\u001b[39m,\n\u001b[1;32m      6\u001b[0m     _types \u001b[39m=\u001b[39m \u001b[39mb\u001b[39m\u001b[39m'\u001b[39m\u001b[39m\\x00\u001b[39;00m\u001b[39m\\x00\u001b[39;00m\u001b[39m\\x12\u001b[39;00m\u001b[39m\\x0D\u001b[39;00m\u001b[39m\\x00\u001b[39;00m\u001b[39m\\x00\u001b[39;00m\u001b[39m\\x68\u001b[39;00m\u001b[39m\\x03\u001b[39;00m\u001b[39m\\x00\u001b[39;00m\u001b[39m\\x00\u001b[39;00m\u001b[39m\\x07\u001b[39;00m\u001b[39m\\x01\u001b[39;00m\u001b[39m\\x00\u001b[39;00m\u001b[39m\\x00\u001b[39;00m\u001b[39m\\x67\u001b[39;00m\u001b[39m\\x03\u001b[39;00m\u001b[39m\\x00\u001b[39;00m\u001b[39m\\x00\u001b[39;00m\u001b[39m\\x75\u001b[39;00m\u001b[39m\\x03\u001b[39;00m\u001b[39m\\x00\u001b[39;00m\u001b[39m\\x00\u001b[39;00m\u001b[39m\\x00\u001b[39;00m\u001b[39m\\x0F\u001b[39;00m\u001b[39m\\x00\u001b[39;00m\u001b[39m\\x00\u001b[39;00m\u001b[39m\\x12\u001b[39;00m\u001b[39m\\x0D\u001b[39;00m\u001b[39m\\x00\u001b[39;00m\u001b[39m\\x00\u001b[39;00m\u001b[39m\\x6A\u001b[39;00m\u001b[39m\\x03\u001b[39;00m\u001b[39m\\x00\u001b[39;00m\u001b[39m\\x00\u001b[39;00m\u001b[39m\\x07\u001b[39;00m\u001b[39m\\x01\u001b[39;00m\u001b[39m\\x00\u001b[39;00m\u001b[39m\\x00\u001b[39;00m\u001b[39m\\x03\u001b[39;00m\u001b[39m\\x11\u001b[39;00m\u001b[39m\\x00\u001b[39;00m\u001b[39m\\x00\u001b[39;00m\u001b[39m\\x00\u001b[39;00m\u001b[39m\\x0F\u001b[39;00m\u001b[39m\\x00\u001b[39;00m\u001b[39m\\x00\u001b[39;00m\u001b[39m\\x12\u001b[39;00m\u001b[39m\\x0D\u001b[39;00m\u001b[39m\\x00\u001b[39;00m\u001b[39m\\x00\u001b[39;00m\u001b[39m\\x07\u001b[39;00m\u001b[39m\\x01\u001b[39;00m\u001b[39m\\x00\u001b[39;00m\u001b[39m\\x00\u001b[39;00m\u001b[39m\\x07\u001b[39;00m\u001b[39m\\x01\u001b[39;00m\u001b[39m\\x00\u001b[39;00m\u001b[39m\\x00\u001b[39;00m\u001b[39m\\x03\u001b[39;00m\u001b[39m\\x11\u001b[39;00m\u001b[39m\\x00\u001b[39;00m\u001b[39m\\x00\u001b[39;00m\u001b[39m\\x07\u001b[39;00m\u001b[39m\\x01\u001b[39;00m\u001b[39m\\x00\u001b[39;00m\u001b[39m\\x00\u001b[39;00m\u001b[39m\\x00\u001b[39;00m\u001b[39m\\x0F\u001b[39;00m\u001b[39m\\x00\u001b[39;00m\u001b[39m\\x00\u001b[39;00m\u001b[39m\\x07\u001b[39;00m\u001b[39m\\x0D\u001b[39;00m\u001b[39m\\x00\u001b[39;00m\u001b[39m\\x00\u001b[39;00m\u001b[39m\\x69\u001b[39;00m\u001b[39m\\x03\u001b[39;00m\u001b[39m\\x00\u001b[39;00m\u001b[39m\\x00\u001b[39;00m\u001b[39m\\x00\u001b[39;00m\u001b[39m\\x0F\u001b[39;00m\u001b[39m\\x00\u001b[39;00m\u001b[39m\\x00\u001b[39;00m\u001b[39m\\x07\u001b[39;00m\u001b[39m\\x0D\u001b[39;00m\u001b[39m\\x00\u001b[39;00m\u001b[39m\\x00\u001b[39;00m\u001b[39m\\x12\u001b[39;00m\u001b[39m\\x11\u001b[39;00m\u001b[39m\\x00\u001b[39;00m\u001b[39m\\x00\u001b[39;00m\u001b[39m\\x07\u001b[39;00m\u001b[39m\\x01\u001b[39;00m\u001b[39m\\x00\u001b[39;00m\u001b[39m\\x00\u001b[39;00m\u001b[39m\\x00\u001b[39;00m\u001b[39m\\x0F\u001b[39;00m\u001b[39m\\x00\u001b[39;00m\u001b[39m\\x00\u001b[39;00m\u001b[39m\\x07\u001b[39;00m\u001b[39m\\x0D\u001b[39;00m\u001b[39m\\x00\u001b[39;00m\u001b[39m\\x00\u001b[39;00m\u001b[39m\\x07\u001b[39;00m\u001b[39m\\x01\u001b[39;00m\u001b[39m\\x00\u001b[39;00m\u001b[39m\\x00\u001b[39;00m\u001b[39m\\x00\u001b[39;00m\u001b[39m\\x0F\u001b[39;00m\u001b[39m\\x00\u001b[39;00m\u001b[39m\\x00\u001b[39;00m\u001b[39m\\x07\u001b[39;00m\u001b[39m\\x0D\u001b[39;00m\u001b[39m\\x00\u001b[39;00m\u001b[39m\\x00\u001b[39;00m\u001b[39m\\x00\u001b[39;00m\u001b[39m\\x0F\u001b[39;00m\u001b[39m\\x00\u001b[39;00m\u001b[39m\\x00\u001b[39;00m\u001b[39m\\x02\u001b[39;00m\u001b[39m\\x0D\u001b[39;00m\u001b[39m\\x00\u001b[39;00m\u001b[39m\\x00\u001b[39;00m\u001b[39m\\x67\u001b[39;00m\u001b[39m\\x03\u001b[39;00m\u001b[39m\\x00\u001b[39;00m\u001b[39m\\x00\u001b[39;00m\u001b[39m\\x00\u001b[39;00m\u001b[39m\\x0F\u001b[39;00m\u001b[39m\\x00\u001b[39;00m\u001b[39m\\x00\u001b[39;00m\u001b[39m\\x02\u001b[39;00m\u001b[39m\\x0D\u001b[39;00m\u001b[39m\\x00\u001b[39;00m\u001b[39m\\x00\u001b[39;00m\u001b[39m\\x12\u001b[39;00m\u001b[39m\\x11\u001b[39;00m\u001b[39m\\x00\u001b[39;00m\u001b[39m\\x00\u001b[39;00m\u001b[39m\\x00\u001b[39;00m\u001b[39m\\x0F\u001b[39;00m\u001b[39m\\x00\u001b[39;00m\u001b[39m\\x00\u001b[39;00m\u001b[39m\\x02\u001b[39;00m\u001b[39m\\x0D\u001b[39;00m\u001b[39m\\x00\u001b[39;00m\u001b[39m\\x00\u001b[39;00m\u001b[39m\\x12\u001b[39;00m\u001b[39m\\x11\u001b[39;00m\u001b[39m\\x00\u001b[39;00m\u001b[39m\\x00\u001b[39;00m\u001b[39m\\x6A\u001b[39;00m\u001b[39m\\x03\u001b[39;00m\u001b[39m\\x00\u001b[39;00m\u001b[39m\\x00\u001b[39;00m\u001b[39m\\x1C\u001b[39;00m\u001b[39m\\x01\u001b[39;00m\u001b[39m\\x00\u001b[39;00m\u001b[39m\\x00\u001b[39;00m\u001b[39m\\x00\u001b[39;00m\u001b[39m\\x0F\u001b[39;00m\u001b[39m\\x00\u001b[39;00m\u001b[39m\\x00\u001b[39;00m\u001b[39m\\x02\u001b[39;00m\u001b[39m\\x0D\u001b[39;00m\u001b[39m\\x00\u001b[39;00m\u001b[39m\\x00\u001b[39;00m\u001b[39m\\x12\u001b[39;00m\u001b[39m\\x11\u001b[39;00m\u001b[39m\\x00\u001b[39;00m\u001b[39m\\x00\u001b[39;00m\u001b[39m\\x07\u001b[39;00m\u001b[39m\\x01\u001b[39;00m\u001b[39m\\x00\u001b[39;00m\u001b[39m\\x00\u001b[39;00m\u001b[39m\\x07\u001b[39;00m\u001b[39m\\x11\u001b[39;00m\u001b[39m\\x00\u001b[39;00m\u001b[39m\\x00\u001b[39;00m\u001b[39m\\x00\u001b[39;00m\u001b[39m\\x0F\u001b[39;00m\u001b[39m\\x00\u001b[39;00m\u001b[39m\\x00\u001b[39;00m\u001b[39m\\x02\u001b[39;00m\u001b[39m\\x0D\u001b[39;00m\u001b[39m\\x00\u001b[39;00m\u001b[39m\\x00\u001b[39;00m\u001b[39m\\x12\u001b[39;00m\u001b[39m\\x11\u001b[39;00m\u001b[39m\\x00\u001b[39;00m\u001b[39m\\x00\u001b[39;00m\u001b[39m\\x07\u001b[39;00m\u001b[39m\\x01\u001b[39;00m\u001b[39m\\x00\u001b[39;00m\u001b[39m\\x00\u001b[39;00m\u001b[39m\\x04\u001b[39;00m\u001b[39m\\x11\u001b[39;00m\u001b[39m\\x00\u001b[39;00m\u001b[39m\\x00\u001b[39;00m\u001b[39m\\x07\u001b[39;00m\u001b[39m\\x01\u001b[39;00m\u001b[39m\\x00\u001b[39;00m\u001b[39m\\x00\u001b[39;00m\u001b[39m\\x00\u001b[39;00m\u001b[39m\\x0F\u001b[39;00m\u001b[39m\\x00\u001b[39;00m\u001b[39m\\x00\u001b[39;00m\u001b[39m\\x36\u001b[39;00m\u001b[39m\\x0D\u001b[39;00m\u001b[39m\\x00\u001b[39;00m\u001b[39m\\x00\u001b[39;00m\u001b[39m\\x12\u001b[39;00m\u001b[39m\\x11\u001b[39;00m\u001b[39m\\x00\u001b[39;00m\u001b[39m\\x00\u001b[39;00m\u001b[39m\\x6B\u001b[39;00m\u001b[39m\\x03\u001b[39;00m\u001b[39m\\x00\u001b[39;00m\u001b[39m\\x00\u001b[39;00m\u001b[39m\\x17\u001b[39;00m\u001b[39m\\x01\u001b[39;00m\u001b[39m\\x00\u001b[39;00m\u001b[39m\\x00\u001b[39;00m\u001b[39m\\x00\u001b[39;00m\u001b[39m\\x0F\u001b[39;00m\u001b[39m\\x00\u001b[39;00m\u001b[39m\\x00\u001b[39;00m\u001b[39m\\x36\u001b[39;00m\u001b[39m\\x0D\u001b[39;00m\u001b[39m\\x00\u001b[39;00m\u001b[39m\\x00\u001b[39;00m\u001b[39m\\x12\u001b[39;00m\u001b[39m\\x11\u001b[39;00m\u001b[39m\\x00\u001b[39;00m\u001b[39m\\x00\u001b[39;00m\u001b[39m\\x6F\u001b[39;00m\u001b[39m\\x03\u001b[39;00m\u001b[39m\\x00\u001b[39;00m\u001b[39m\\x00\u001b[39;00m\u001b[39m\\x17\u001b[39;00m\u001b[39m\\x01\u001b[39;00m\u001b[39m\\x00\u001b[39;00m\u001b[39m\\x00\u001b[39;00m\u001b[39m\\x00\u001b[39;00m\u001b[39m\\x0F\u001b[39;00m\u001b[39m\\x00\u001b[39;00m\u001b[39m\\x00\u001b[39;00m\u001b[39m\\x36\u001b[39;00m\u001b[39m\\x0D\u001b[39;00m\u001b[39m\\x00\u001b[39;00m\u001b[39m\\x00\u001b[39;00m\u001b[39m\\x12\u001b[39;00m\u001b[39m\\x11\u001b[39;00m\u001b[39m\\x00\u001b[39;00m\u001b[39m\\x00\u001b[39;00m\u001b[39m\\x02\u001b[39;00m\u001b[39m\\x03\u001b[39;00m\u001b[39m\\x00\u001b[39;00m\u001b[39m\\x00\u001b[39;00m\u001b[39m\\x17\u001b[39;00m\u001b[39m\\x01\u001b[39;00m\u001b[39m\\x00\u001b[39;00m\u001b[39m\\x00\u001b[39;00m\u001b[39m\\x00\u001b[39;00m\u001b[39m\\x0F\u001b[39;00m\u001b[39m\\x00\u001b[39;00m\u001b[39m\\x00\u001b[39;00m\u001b[39m\\x36\u001b[39;00m\u001b[39m\\x0D\u001b[39;00m\u001b[39m\\x00\u001b[39;00m\u001b[39m\\x00\u001b[39;00m\u001b[39m\\x12\u001b[39;00m\u001b[39m\\x11\u001b[39;00m\u001b[39m\\x00\u001b[39;00m\u001b[39m\\x00\u001b[39;00m\u001b[39m\\x17\u001b[39;00m\u001b[39m\\x01\u001b[39;00m\u001b[39m\\x00\u001b[39;00m\u001b[39m\\x00\u001b[39;00m\u001b[39m\\x07\u001b[39;00m\u001b[39m\\x01\u001b[39;00m\u001b[39m\\x00\u001b[39;00m\u001b[39m\\x00\u001b[39;00m\u001b[39m\\x00\u001b[39;00m\u001b[39m\\x0F\u001b[39;00m\u001b[39m\\x00\u001b[39;00m\u001b[39m\\x00\u001b[39;00m\u001b[39m\\x36\u001b[39;00m\u001b[39m\\x0D\u001b[39;00m\u001b[39m\\x00\u001b[39;00m\u001b[39m\\x00\u001b[39;00m\u001b[39m\\x12\u001b[39;00m\u001b[39m\\x11\u001b[39;00m\u001b[39m\\x00\u001b[39;00m\u001b[39m\\x00\u001b[39;00m\u001b[39m\\x74\u001b[39;00m\u001b[39m\\x03\u001b[39;00m\u001b[39m\\x00\u001b[39;00m\u001b[39m\\x00\u001b[39;00m\u001b[39m\\x17\u001b[39;00m\u001b[39m\\x01\u001b[39;00m\u001b[39m\\x00\u001b[39;00m\u001b[39m\\x00\u001b[39;00m\u001b[39m\\x00\u001b[39;00m\u001b[39m\\x0F\u001b[39;00m\u001b[39m\\x00\u001b[39;00m\u001b[39m\\x00\u001b[39;00m\u001b[39m\\x36\u001b[39;00m\u001b[39m\\x0D\u001b[39;00m\u001b[39m\\x00\u001b[39;00m\u001b[39m\\x00\u001b[39;00m\u001b[39m\\x12\u001b[39;00m\u001b[39m\\x11\u001b[39;00m\u001b[39m\\x00\u001b[39;00m\u001b[39m\\x00\u001b[39;00m\u001b[39m\\x04\u001b[39;00m\u001b[39m\\x11\u001b[39;00m\u001b[39m\\x00\u001b[39;00m\u001b[39m\\x00\u001b[39;00m\u001b[39m\\x17\u001b[39;00m\u001b[39m\\x01\u001b[39;00m\u001b[39m\\x00\u001b[39;00m\u001b[39m\\x00\u001b[39;00m\u001b[39m\\x00\u001b[39;00m\u001b[39m\\x0F\u001b[39;00m\u001b[39m\\x00\u001b[39;00m\u001b[39m\\x00\u001b[39;00m\u001b[39m\\x36\u001b[39;00m\u001b[39m\\x0D\u001b[39;00m\u001b[39m\\x00\u001b[39;00m\u001b[39m\\x00\u001b[39;00m\u001b[39m\\x17\u001b[39;00m\u001b[39m\\x01\u001b[39;00m\u001b[39m\\x00\u001b[39;00m\u001b[39m\\x00\u001b[39;00m\u001b[39m\\x07\u001b[39;00m\u001b[39m\\x01\u001b[39;00m\u001b[39m\\x00\u001b[39;00m\u001b[39m\\x00\u001b[39;00m\u001b[39m\\x04\u001b[39;00m\u001b[39m\\x11\u001b[39;00m\u001b[39m\\x00\u001b[39;00m\u001b[39m\\x00\u001b[39;00m\u001b[39m\\x00\u001b[39;00m\u001b[39m\\x0F\u001b[39;00m\u001b[39m\\x00\u001b[39;00m\u001b[39m\\x00\u001b[39;00m\u001b[39m\\x36\u001b[39;00m\u001b[39m\\x0D\u001b[39;00m\u001b[39m\\x00\u001b[39;00m\u001b[39m\\x00\u001b[39;00m\u001b[39m\\x04\u001b[39;00m\u001b[39m\\x11\u001b[39;00m\u001b[39m\\x00\u001b[39;00m\u001b[39m\\x00\u001b[39;00m\u001b[39m\\x00\u001b[39;00m\u001b[39m\\x0F\u001b[39;00m\u001b[39m\\x00\u001b[39;00m\u001b[39m\\x00\u001b[39;00m\u001b[39m\\x36\u001b[39;00m\u001b[39m\\x0D\u001b[39;00m\u001b[39m\\x00\u001b[39;00m\u001b[39m\\x00\u001b[39;00m\u001b[39m\\x04\u001b[39;00m\u001b[39m\\x11\u001b[39;00m\u001b[39m\\x00\u001b[39;00m\u001b[39m\\x00\u001b[39;00m\u001b[39m\\x17\u001b[39;00m\u001b[39m\\x01\u001b[39;00m\u001b[39m\\x00\u001b[39;00m\u001b[39m\\x00\u001b[39;00m\u001b[39m\\x04\u001b[39;00m\u001b[39m\\x11\u001b[39;00m\u001b[39m\\x00\u001b[39;00m\u001b[39m\\x00\u001b[39;00m\u001b[39m\\x00\u001b[39;00m\u001b[39m\\x0F\u001b[39;00m\u001b[39m\\x00\u001b[39;00m\u001b[39m\\x00\u001b[39;00m\u001b[39m\\x36\u001b[39;00m\u001b[39m\\x0D\u001b[39;00m\u001b[39m\\x00\u001b[39;00m\u001b[39m\\x00\u001b[39;00m\u001b[39m\\x75\u001b[39;00m\u001b[39m\\x03\u001b[39;00m\u001b[39m\\x00\u001b[39;00m\u001b[39m\\x00\u001b[39;00m\u001b[39m\\x17\u001b[39;00m\u001b[39m\\x01\u001b[39;00m\u001b[39m\\x00\u001b[39;00m\u001b[39m\\x00\u001b[39;00m\u001b[39m\\x04\u001b[39;00m\u001b[39m\\x11\u001b[39;00m\u001b[39m\\x00\u001b[39;00m\u001b[39m\\x00\u001b[39;00m\u001b[39m\\x00\u001b[39;00m\u001b[39m\\x0F\u001b[39;00m\u001b[39m\\x00\u001b[39;00m\u001b[39m\\x00\u001b[39;00m\u001b[39m\\x75\u001b[39;00m\u001b[39m\\x0D\u001b[39;00m\u001b[39m\\x00\u001b[39;00m\u001b[39m\\x00\u001b[39;00m\u001b[39m\\x12\u001b[39;00m\u001b[39m\\x11\u001b[39;00m\u001b[39m\\x00\u001b[39;00m\u001b[39m\\x00\u001b[39;00m\u001b[39m\\x00\u001b[39;00m\u001b[39m\\x0F\u001b[39;00m\u001b[39m\\x00\u001b[39;00m\u001b[39m\\x00\u001b[39;00m\u001b[39m\\x00\u001b[39;00m\u001b[39m\\x09\u001b[39;00m\u001b[39m\\x00\u001b[39;00m\u001b[39m\\x00\u001b[39;00m\u001b[39m\\x01\u001b[39;00m\u001b[39m\\x09\u001b[39;00m\u001b[39m\\x00\u001b[39;00m\u001b[39m\\x00\u001b[39;00m\u001b[39m\\x02\u001b[39;00m\u001b[39m\\x09\u001b[39;00m\u001b[39m\\x00\u001b[39;00m\u001b[39m\\x00\u001b[39;00m\u001b[39m\\x03\u001b[39;00m\u001b[39m\\x09\u001b[39;00m\u001b[39m\\x00\u001b[39;00m\u001b[39m\\x00\u001b[39;00m\u001b[39m\\x02\u001b[39;00m\u001b[39m\\x01\u001b[39;00m\u001b[39m\\x00\u001b[39;00m\u001b[39m\\x00\u001b[39;00m\u001b[39m\\x0E\u001b[39;00m\u001b[39m\\x01\u001b[39;00m\u001b[39m\\x00\u001b[39;00m\u001b[39m\\x00\u001b[39;00m\u001b[39m\\x00\u001b[39;00m\u001b[39m\\x0B\u001b[39;00m\u001b[39m\\x00\u001b[39;00m\u001b[39m\\x00\u001b[39;00m\u001b[39m\\x01\u001b[39;00m\u001b[39m\\x0B\u001b[39;00m\u001b[39m\\x00\u001b[39;00m\u001b[39m\\x00\u001b[39;00m\u001b[39m\\x02\u001b[39;00m\u001b[39m\\x0B\u001b[39;00m\u001b[39m\\x00\u001b[39;00m\u001b[39m\\x00\u001b[39;00m\u001b[39m\\x0D\u001b[39;00m\u001b[39m\\x01\u001b[39;00m\u001b[39m\\x00\u001b[39;00m\u001b[39m\\x00\u001b[39;00m\u001b[39m\\x51\u001b[39;00m\u001b[39m\\x03\u001b[39;00m\u001b[39m\\x00\u001b[39;00m\u001b[39m\\x00\u001b[39;00m\u001b[39m\\x56\u001b[39;00m\u001b[39m\\x03\u001b[39;00m\u001b[39m\\x00\u001b[39;00m\u001b[39m\\x00\u001b[39;00m\u001b[39m\\x59\u001b[39;00m\u001b[39m\\x03\u001b[39;00m\u001b[39m\\x00\u001b[39;00m\u001b[39m\\x00\u001b[39;00m\u001b[39m\\x5E\u001b[39;00m\u001b[39m\\x03\u001b[39;00m\u001b[39m\\x00\u001b[39;00m\u001b[39m\\x00\u001b[39;00m\u001b[39m\\x05\u001b[39;00m\u001b[39m\\x01\u001b[39;00m\u001b[39m\\x00\u001b[39;00m\u001b[39m\\x00\u001b[39;00m\u001b[39m\\x00\u001b[39;00m\u001b[39m\\x01\u001b[39;00m\u001b[39m'\u001b[39m,\n\u001b[0;32m   (...)\u001b[0m\n\u001b[1;32m     10\u001b[0m     _typenames \u001b[39m=\u001b[39m (\u001b[39mb\u001b[39m\u001b[39m'\u001b[39m\u001b[39m\\x00\u001b[39;00m\u001b[39m\\x00\u001b[39;00m\u001b[39m\\x00\u001b[39;00m\u001b[39m\\x66\u001b[39;00m\u001b[39mSF_FORMAT_INFO\u001b[39m\u001b[39m'\u001b[39m,\u001b[39mb\u001b[39m\u001b[39m'\u001b[39m\u001b[39m\\x00\u001b[39;00m\u001b[39m\\x00\u001b[39;00m\u001b[39m\\x00\u001b[39;00m\u001b[39m\\x67\u001b[39;00m\u001b[39mSF_INFO\u001b[39m\u001b[39m'\u001b[39m,\u001b[39mb\u001b[39m\u001b[39m'\u001b[39m\u001b[39m\\x00\u001b[39;00m\u001b[39m\\x00\u001b[39;00m\u001b[39m\\x00\u001b[39;00m\u001b[39m\\x68\u001b[39;00m\u001b[39mSF_VIRTUAL_IO\u001b[39m\u001b[39m'\u001b[39m,\u001b[39mb\u001b[39m\u001b[39m'\u001b[39m\u001b[39m\\x00\u001b[39;00m\u001b[39m\\x00\u001b[39;00m\u001b[39m\\x00\u001b[39;00m\u001b[39m\\x69\u001b[39;00m\u001b[39mSNDFILE\u001b[39m\u001b[39m'\u001b[39m,\u001b[39mb\u001b[39m\u001b[39m'\u001b[39m\u001b[39m\\x00\u001b[39;00m\u001b[39m\\x00\u001b[39;00m\u001b[39m\\x00\u001b[39;00m\u001b[39m\\x36\u001b[39;00m\u001b[39msf_count_t\u001b[39m\u001b[39m'\u001b[39m,\u001b[39mb\u001b[39m\u001b[39m'\u001b[39m\u001b[39m\\x00\u001b[39;00m\u001b[39m\\x00\u001b[39;00m\u001b[39m\\x00\u001b[39;00m\u001b[39m\\x71\u001b[39;00m\u001b[39msf_vio_get_filelen\u001b[39m\u001b[39m'\u001b[39m,\u001b[39mb\u001b[39m\u001b[39m'\u001b[39m\u001b[39m\\x00\u001b[39;00m\u001b[39m\\x00\u001b[39;00m\u001b[39m\\x00\u001b[39;00m\u001b[39m\\x72\u001b[39;00m\u001b[39msf_vio_read\u001b[39m\u001b[39m'\u001b[39m,\u001b[39mb\u001b[39m\u001b[39m'\u001b[39m\u001b[39m\\x00\u001b[39;00m\u001b[39m\\x00\u001b[39;00m\u001b[39m\\x00\u001b[39;00m\u001b[39m\\x70\u001b[39;00m\u001b[39msf_vio_seek\u001b[39m\u001b[39m'\u001b[39m,\u001b[39mb\u001b[39m\u001b[39m'\u001b[39m\u001b[39m\\x00\u001b[39;00m\u001b[39m\\x00\u001b[39;00m\u001b[39m\\x00\u001b[39;00m\u001b[39m\\x71\u001b[39;00m\u001b[39msf_vio_tell\u001b[39m\u001b[39m'\u001b[39m,\u001b[39mb\u001b[39m\u001b[39m'\u001b[39m\u001b[39m\\x00\u001b[39;00m\u001b[39m\\x00\u001b[39;00m\u001b[39m\\x00\u001b[39;00m\u001b[39m\\x73\u001b[39;00m\u001b[39msf_vio_write\u001b[39m\u001b[39m'\u001b[39m),\n\u001b[1;32m     11\u001b[0m )\n",
            "\u001b[0;31mImportError\u001b[0m: dlopen(/Users/dharp/.pyenv/versions/3.8.11/lib/python3.8/site-packages/_cffi_backend.cpython-38-darwin.so, 0x0002): symbol not found in flat namespace '_ffi_prep_closure'"
          ]
        }
      ],
      "source": [
        "fastpitch, generator_train_setup = torch.hub.load('NVIDIA/DeepLearningExamples:torchhub', 'nvidia_fastpitch')"
      ]
    },
    {
      "cell_type": "markdown",
      "id": "d352f88d",
      "metadata": {
        "id": "d352f88d"
      },
      "source": [
        "Download and setup vocoder and denoiser models."
      ]
    },
    {
      "cell_type": "code",
      "execution_count": null,
      "id": "04c82a35",
      "metadata": {
        "id": "04c82a35"
      },
      "outputs": [],
      "source": [
        "hifigan, vocoder_train_setup, denoiser = torch.hub.load('NVIDIA/DeepLearningExamples:torchhub', 'nvidia_hifigan')"
      ]
    },
    {
      "cell_type": "markdown",
      "id": "52002822",
      "metadata": {
        "id": "52002822"
      },
      "source": [
        "Verify that generator and vocoder models agree on input parameters."
      ]
    },
    {
      "cell_type": "code",
      "execution_count": null,
      "id": "a1409b6a",
      "metadata": {
        "id": "a1409b6a"
      },
      "outputs": [],
      "source": [
        "CHECKPOINT_SPECIFIC_ARGS = [\n",
        "    'sampling_rate', 'hop_length', 'win_length', 'p_arpabet', 'text_cleaners',\n",
        "    'symbol_set', 'max_wav_value', 'prepend_space_to_text',\n",
        "    'append_space_to_text']\n",
        "\n",
        "for k in CHECKPOINT_SPECIFIC_ARGS:\n",
        "\n",
        "    v1 = generator_train_setup.get(k, None)\n",
        "    v2 = vocoder_train_setup.get(k, None)\n",
        "\n",
        "    assert v1 is None or v2 is None or v1 == v2, \\\n",
        "        f'{k} mismatch in spectrogram generator and vocoder'"
      ]
    },
    {
      "cell_type": "markdown",
      "id": "ab76fe53",
      "metadata": {
        "id": "ab76fe53"
      },
      "source": [
        "Put all models on available device."
      ]
    },
    {
      "cell_type": "code",
      "execution_count": null,
      "id": "1fc3e2fe",
      "metadata": {
        "id": "1fc3e2fe"
      },
      "outputs": [],
      "source": [
        "fastpitch.to(device)\n",
        "hifigan.to(device)\n",
        "denoiser.to(device)"
      ]
    },
    {
      "cell_type": "markdown",
      "id": "e1a0dd69",
      "metadata": {
        "id": "e1a0dd69"
      },
      "source": [
        "Load text processor."
      ]
    },
    {
      "cell_type": "code",
      "execution_count": null,
      "id": "dc7d6c34",
      "metadata": {
        "id": "dc7d6c34"
      },
      "outputs": [],
      "source": [
        "tp = torch.hub.load('NVIDIA/DeepLearningExamples:torchhub', 'nvidia_textprocessing_utils', cmudict_path=\"cmudict-0.7b\", heteronyms_path=\"heteronyms\")"
      ]
    },
    {
      "cell_type": "markdown",
      "id": "140bc3b2",
      "metadata": {
        "id": "140bc3b2"
      },
      "source": [
        "Set the text to be synthetized, prepare input and set additional generation parameters."
      ]
    },
    {
      "cell_type": "code",
      "execution_count": null,
      "id": "7376f39b",
      "metadata": {
        "id": "7376f39b"
      },
      "outputs": [],
      "source": [
        "text = \"Say this smoothly, to prove you are not a robot.\""
      ]
    },
    {
      "cell_type": "code",
      "execution_count": null,
      "id": "92a1340c",
      "metadata": {
        "id": "92a1340c"
      },
      "outputs": [],
      "source": [
        "batches = tp.prepare_input_sequence([text], batch_size=1)"
      ]
    },
    {
      "cell_type": "code",
      "execution_count": null,
      "id": "2ae101e7",
      "metadata": {
        "id": "2ae101e7"
      },
      "outputs": [],
      "source": [
        "gen_kw = {'pace': 1.0,\n",
        "          'speaker': 0,\n",
        "          'pitch_tgt': None,\n",
        "          'pitch_transform': None}\n",
        "denoising_strength = 0.005"
      ]
    },
    {
      "cell_type": "code",
      "execution_count": null,
      "id": "0708735c",
      "metadata": {
        "id": "0708735c"
      },
      "outputs": [],
      "source": [
        "for batch in batches:\n",
        "    with torch.no_grad():\n",
        "        mel, mel_lens, *_ = fastpitch(batch['text'].to(device), **gen_kw)\n",
        "        audios = hifigan(mel).float()\n",
        "        audios = denoiser(audios.squeeze(1), denoising_strength)\n",
        "        audios = audios.squeeze(1) * vocoder_train_setup['max_wav_value']\n"
      ]
    },
    {
      "cell_type": "markdown",
      "id": "b38005c3",
      "metadata": {
        "id": "b38005c3"
      },
      "source": [
        "Plot the intermediate spectorgram."
      ]
    },
    {
      "cell_type": "code",
      "execution_count": null,
      "id": "94090fcd",
      "metadata": {
        "id": "94090fcd"
      },
      "outputs": [],
      "source": [
        "plt.figure(figsize=(10,12))\n",
        "res_mel = mel[0].detach().cpu().numpy()\n",
        "plt.imshow(res_mel, origin='lower')\n",
        "plt.xlabel('time')\n",
        "plt.ylabel('frequency')\n",
        "_=plt.title('Spectrogram')"
      ]
    },
    {
      "cell_type": "markdown",
      "id": "3c705fa8",
      "metadata": {
        "id": "3c705fa8"
      },
      "source": [
        "Syntesize audio."
      ]
    },
    {
      "cell_type": "code",
      "execution_count": null,
      "id": "59954fcf",
      "metadata": {
        "id": "59954fcf"
      },
      "outputs": [],
      "source": [
        "audio_numpy = audios[0].cpu().numpy()\n",
        "Audio(audio_numpy, rate=22050)"
      ]
    },
    {
      "cell_type": "markdown",
      "id": "97100088",
      "metadata": {
        "id": "97100088"
      },
      "source": [
        "Write audio to wav file."
      ]
    },
    {
      "cell_type": "code",
      "execution_count": null,
      "id": "626c26ec",
      "metadata": {
        "id": "626c26ec"
      },
      "outputs": [],
      "source": [
        "from scipy.io.wavfile import write\n",
        "write(\"audio.wav\", vocoder_train_setup['sampling_rate'], audio_numpy)"
      ]
    },
    {
      "cell_type": "markdown",
      "id": "5a216c01",
      "metadata": {
        "id": "5a216c01"
      },
      "source": [
        "### Details\n",
        "For detailed information on model input and output, training recipies, inference and performance visit: [github](https://github.com/NVIDIA/DeepLearningExamples/tree/master/PyTorch/SpeechSynthesis/HiFiGAN) and/or [NGC](https://catalog.ngc.nvidia.com/orgs/nvidia/teams/dle/resources/hifigan_pyt)\n",
        "\n",
        "### References\n",
        "\n",
        " - [HiFi-GAN: Generative Adversarial Networks for Efficient and High Fidelity Speech Synthesis](https://arxiv.org/abs/2010.05646)\n",
        " - [Original implementation](https://github.com/jik876/hifi-gan)\n",
        " - [FastPitch on NGC](https://catalog.ngc.nvidia.com/orgs/nvidia/teams/dle/resources/fastpitch_pyt)\n",
        " - [HiFi-GAN on NGC](https://catalog.ngc.nvidia.com/orgs/nvidia/teams/dle/resources/hifigan_pyt)\n",
        " - [FastPitch and HiFi-GAN on github](https://github.com/NVIDIA/DeepLearningExamples/tree/master/PyTorch/SpeechSynthesis/HiFi-GAN)"
      ]
    }
  ],
  "metadata": {
    "colab": {
      "provenance": []
    },
    "kernelspec": {
      "display_name": "Python 3",
      "language": "python",
      "name": "python3"
    },
    "language_info": {
      "codemirror_mode": {
        "name": "ipython",
        "version": 3
      },
      "file_extension": ".py",
      "mimetype": "text/x-python",
      "name": "python",
      "nbconvert_exporter": "python",
      "pygments_lexer": "ipython3",
      "version": "3.8.11"
    }
  },
  "nbformat": 4,
  "nbformat_minor": 5
}
